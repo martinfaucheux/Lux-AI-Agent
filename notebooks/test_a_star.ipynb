{
 "cells": [
  {
   "cell_type": "code",
   "execution_count": 1,
   "source": [
    "import os\n",
    "os.chdir(\"..\")\n",
    "print(os.getcwd())"
   ],
   "outputs": [
    {
     "output_type": "stream",
     "name": "stdout",
     "text": [
      "/home/martin/PersonalProjects/python/lux/ai/first_agent\n"
     ]
    }
   ],
   "metadata": {}
  },
  {
   "cell_type": "code",
   "execution_count": 3,
   "source": [
    "from utils.graph import search\n",
    "from pprint import pprint"
   ],
   "outputs": [],
   "metadata": {}
  },
  {
   "cell_type": "code",
   "execution_count": 4,
   "source": [
    "maze = [[0, 1, 0, 0, 0, 0],\n",
    "        [0, 0, 0, 0, 0, 0],\n",
    "        [0, 1, 0, 1, 0, 0],\n",
    "        [0, 1, 0, 0, 1, 0],\n",
    "        [0, 0, 0, 0, 1, 0]]\n",
    "\n",
    "start = [0, 0] # starting position\n",
    "end = [4,5] # ending position\n",
    "cost = 1 # cost per movement\n",
    "\n",
    "path = search(maze,cost, start, end)\n",
    "pprint(path)"
   ],
   "outputs": [
    {
     "output_type": "stream",
     "name": "stdout",
     "text": [
      "[[0, -1, -1, -1, -1, -1],\n",
      " [1, 2, 3, 4, 5, -1],\n",
      " [-1, -1, -1, -1, 6, 7],\n",
      " [-1, -1, -1, -1, -1, 8],\n",
      " [-1, -1, -1, -1, -1, 9]]\n"
     ]
    }
   ],
   "metadata": {}
  },
  {
   "cell_type": "code",
   "execution_count": null,
   "source": [],
   "outputs": [],
   "metadata": {}
  }
 ],
 "metadata": {
  "orig_nbformat": 4,
  "language_info": {
   "name": "python",
   "version": "3.8.10",
   "mimetype": "text/x-python",
   "codemirror_mode": {
    "name": "ipython",
    "version": 3
   },
   "pygments_lexer": "ipython3",
   "nbconvert_exporter": "python",
   "file_extension": ".py"
  },
  "kernelspec": {
   "name": "python3",
   "display_name": "Python 3.8.10 64-bit ('first_agent-ZVdQASYV': pipenv)"
  },
  "interpreter": {
   "hash": "e1fba01276ff7c9c51e1a644661c938e04972d2ddcdd190988d7860389357b99"
  }
 },
 "nbformat": 4,
 "nbformat_minor": 2
}